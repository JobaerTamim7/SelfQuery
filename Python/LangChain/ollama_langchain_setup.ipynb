{
 "cells": [
  {
   "cell_type": "markdown",
   "id": "3f1f119f",
   "metadata": {},
   "source": [
    "## **Setup Logger**"
   ]
  },
  {
   "cell_type": "code",
   "execution_count": 3,
   "id": "3847f04f",
   "metadata": {},
   "outputs": [],
   "source": [
    "import logging\n",
    "from logging import Logger\n",
    "\n",
    "formatter = logging.Formatter(\n",
    "    '[%(levelname)-5s] %(asctime)s: %(message)s',\n",
    "    datefmt='%Y-%m-%d %H:%M:%S'\n",
    ")\n",
    "\n",
    "console_logger: Logger = logging.getLogger(\"console_logger\")\n",
    "console_logger.setLevel(logging.INFO)\n",
    "console_logger.propagate = False\n",
    "console_logger.handlers.clear()\n",
    "\n",
    "if not console_logger.hasHandlers():\n",
    "    console_handler = logging.StreamHandler() # Create a handler that writes log messages to the console (standard output).\n",
    "    console_handler.setLevel(logging.INFO)\n",
    "    console_handler.setFormatter(formatter)\n",
    "    console_logger.addHandler(console_handler)"
   ]
  },
  {
   "cell_type": "markdown",
   "id": "a6089037",
   "metadata": {},
   "source": [
    "## **Setup Ollama**"
   ]
  },
  {
   "cell_type": "markdown",
   "id": "f8aef140",
   "metadata": {},
   "source": [
    "### **Create LLM Instance**"
   ]
  },
  {
   "cell_type": "code",
   "execution_count": 4,
   "id": "e7f6e874",
   "metadata": {},
   "outputs": [],
   "source": [
    "from langchain_ollama import ChatOllama\n",
    "\n",
    "llm = ChatOllama(model=\"mistral:latest\")"
   ]
  },
  {
   "cell_type": "markdown",
   "id": "fa4920db",
   "metadata": {},
   "source": [
    "### **Create Prompt Template**"
   ]
  },
  {
   "cell_type": "code",
   "execution_count": 5,
   "id": "7ae4cacf",
   "metadata": {},
   "outputs": [],
   "source": [
    "from langchain_core.prompts import (\n",
    "    ChatPromptTemplate,\n",
    "    SystemMessagePromptTemplate,\n",
    "    HumanMessagePromptTemplate\n",
    ")\n",
    "\n",
    "system_template = SystemMessagePromptTemplate.from_template(\"You are a helpful {role}. Your biggest speciality is {speciality}.\")\n",
    "\n",
    "user_template = HumanMessagePromptTemplate.from_template(\"{question}\")\n",
    "\n",
    "chat_prompt_template = ChatPromptTemplate.from_messages([system_template,user_template])\n",
    "\n",
    "role = input(\"How you would like me to act? : \")\n",
    "speciality = input(\"Additional Preferences? : \") or \"Nothing for now.\"\n",
    "question = input(\"Your Question : \")\n",
    "\n",
    "prompt = chat_prompt_template.format_messages(\n",
    "    role = role,\n",
    "    speciality = speciality,\n",
    "    question = question\n",
    ")\n",
    "\n"
   ]
  },
  {
   "cell_type": "markdown",
   "id": "bf960a17",
   "metadata": {},
   "source": [
    "### **Generate Stream Response**"
   ]
  },
  {
   "cell_type": "code",
   "execution_count": 6,
   "id": "539725e0",
   "metadata": {},
   "outputs": [
    {
     "name": "stdout",
     "output_type": "stream",
     "text": [
      " Gravity is a fundamental force of nature by which a planet or other body draws objects toward its center. On Earth, our weight is due to the gravitational force exerted by the Earth itself. Gravity is caused by the mass and size of an object. The more massive an object, the stronger its gravity. A larger object creates a stronger gravitational pull than a smaller one.\n",
      "\n",
      "The concept of gravity was first developed by Sir Isaac Newton in the 17th century. Albert Einstein's theory of general relativity, published in 1915, gave a new understanding of gravity as a curvature of spacetime caused by mass and energy. This is now the prevailing scientific understanding.\n",
      "\n",
      "In everyday life, we experience the effects of gravity as weight (the force pulling objects towards the Earth) and as the force that keeps us on the ground when we walk or run. Gravity also plays a crucial role in the formation and evolution of stars, planets, and galaxies."
     ]
    }
   ],
   "source": [
    "for chunk in llm.stream(prompt):\n",
    "    print(chunk.content,end=\"\",flush=False)"
   ]
  }
 ],
 "metadata": {
  "kernelspec": {
   "display_name": "LangChain",
   "language": "python",
   "name": "python3"
  },
  "language_info": {
   "codemirror_mode": {
    "name": "ipython",
    "version": 3
   },
   "file_extension": ".py",
   "mimetype": "text/x-python",
   "name": "python",
   "nbconvert_exporter": "python",
   "pygments_lexer": "ipython3",
   "version": "3.12.10"
  }
 },
 "nbformat": 4,
 "nbformat_minor": 5
}
