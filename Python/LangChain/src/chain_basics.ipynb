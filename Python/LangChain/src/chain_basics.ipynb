{
 "cells": [
  {
   "cell_type": "markdown",
   "id": "b79ebd05",
   "metadata": {},
   "source": [
    "## **Check Ollama Models**"
   ]
  },
  {
   "cell_type": "code",
   "execution_count": 1,
   "id": "410a0851",
   "metadata": {},
   "outputs": [
    {
     "name": "stdout",
     "output_type": "stream",
     "text": [
      "NAME                     ID              SIZE      MODIFIED       \n",
      "nomic-embed-text:v1.5    0a109f422b47    274 MB    14 minutes ago    \n",
      "deepseek-r1:1.5b         e0979632db5a    1.1 GB    6 days ago        \n",
      "llava:13b                0d0eb4d7f485    8.0 GB    2 months ago      \n",
      "mistral:latest           3944fe81ec14    4.1 GB    2 months ago      \n"
     ]
    }
   ],
   "source": [
    "!ollama list"
   ]
  },
  {
   "cell_type": "markdown",
   "id": "feb69ac3",
   "metadata": {},
   "source": [
    "## **Setup Logger**"
   ]
  },
  {
   "cell_type": "code",
   "execution_count": null,
   "id": "e76e6c6a",
   "metadata": {},
   "outputs": [],
   "source": [
    "import logging\n",
    "from logging import Logger\n",
    "\n",
    "formatter = logging.Formatter(\n",
    "    '[%(levelname)-5s] %(asctime)s: %(message)s',\n",
    "    datefmt='%Y-%m-%d %H:%M:%S'\n",
    ")\n",
    "\n",
    "console_logger: Logger = logging.getLogger(\"console_logger\")\n",
    "console_logger.setLevel(logging.INFO)\n",
    "console_logger.propagate = False\n",
    "console_logger.handlers.clear()\n",
    "\n",
    "if not console_logger.hasHandlers():\n",
    "    console_handler = logging.StreamHandler() # Create a handler that writes log messages to the console (standard output).\n",
    "    console_handler.setLevel(logging.INFO)\n",
    "    console_handler.setFormatter(formatter)\n",
    "    console_logger.addHandler(console_handler)"
   ]
  },
  {
   "cell_type": "markdown",
   "id": "1a30848c",
   "metadata": {},
   "source": [
    "## **Setup Chain**"
   ]
  },
  {
   "cell_type": "markdown",
   "id": "b1bc5cb1",
   "metadata": {},
   "source": [
    "### **Setup Model and Prompt**"
   ]
  },
  {
   "cell_type": "code",
   "execution_count": 5,
   "id": "a3abbb5d",
   "metadata": {},
   "outputs": [],
   "source": [
    "from langchain_ollama import ChatOllama\n",
    "from langchain_core.prompts import PromptTemplate\n",
    "\n",
    "llm = ChatOllama(model=\"llama3.1:8b\")\n",
    "\n",
    "template = \"\"\"You are a helpful translator assistant that translates {input_language} to {output_language}.\n",
    "              You are given the following {input_language} text: {text}\n",
    "              You should respond with the translated text in {output_language}.\"\"\"\n",
    "\n",
    "prompt_template = PromptTemplate(\n",
    "    input_variables=[\"input_language\", \"output_language\", \"text\"],\n",
    "    template=template,\n",
    ")"
   ]
  },
  {
   "cell_type": "markdown",
   "id": "fdfabea2",
   "metadata": {},
   "source": [
    "## **Create Normal Chain**"
   ]
  },
  {
   "cell_type": "code",
   "execution_count": null,
   "id": "fea818f9",
   "metadata": {},
   "outputs": [
    {
     "name": "stdout",
     "output_type": "stream",
     "text": [
      "The translation of \"I love programming\" into French is:\n",
      "\n",
      "\"Je m'apprécie la programmation\"\n",
      "\n",
      "However, a more common and idiomatic way to express this would be:\n",
      "\n",
      "\"J'adore programmer\"\n",
      "\n",
      "This directly conveys the enthusiasm for programming rather than using \"m'apprecier\" which has a slightly different connotation."
     ]
    }
   ],
   "source": [
    "from langchain_core.output_parsers import StrOutputParser\n",
    "\n",
    "translation_chain = prompt_template | llm | StrOutputParser() \n",
    "\n",
    "input1 = {\n",
    "    \"input_language\": \"English\",\n",
    "    \"output_language\": \"French\",\n",
    "    \"text\": \"I love programming.\",\n",
    "}\n",
    "\n",
    "for chunk in translation_chain.stream(input1):\n",
    "    print(chunk, end='', flush=True)"
   ]
  },
  {
   "cell_type": "markdown",
   "id": "7443a4c6",
   "metadata": {},
   "source": [
    "## **Create Sequential Chain**"
   ]
  },
  {
   "cell_type": "code",
   "execution_count": null,
   "id": "d1c9f0ed",
   "metadata": {},
   "outputs": [
    {
     "name": "stdout",
     "output_type": "stream",
     "text": [
      "সূর্য পৃথিবীর জন্য গুরুত্বপূর্ণ, কারণ এটি আলো ও উষ্ণতা দেয় যা সমস্ত জীবনকে সমর্থন করে।"
     ]
    }
   ],
   "source": [
    "summary_prompt = PromptTemplate(\n",
    "    input_variables=[\"translated_text\"],\n",
    "    template=\"Summarize this text in one simple sentence: {translated_text}\",\n",
    ")\n",
    "\n",
    "\n",
    "summary_sequential_chain = (\n",
    "      {\"translated_text\": translation_chain} | # get the output of translation_chain as input\n",
    "      summary_prompt |\n",
    "      llm | \n",
    "      StrOutputParser()\n",
    ")\n",
    "\n",
    "text = \"\"\"The sun is the closest star to Earth and is very important for life. It gives us light and warmth, which help plants grow and provide energy for all living things. Without the sun, Earth would be dark, cold, and lifeless. The sun also controls the weather and seasons, making our planet suitable to live on. That’s why it is often called the “source of life.”\"\"\"\n",
    "\n",
    "input2 = {\n",
    "    \"input_language\": \"English\",\n",
    "    \"output_language\": \"Bangla\",\n",
    "    \"text\": text,\n",
    "}\n",
    "\n",
    "for chunk in summary_sequential_chain.stream(input2):\n",
    "    print(chunk, end='', flush=True)\n"
   ]
  }
 ],
 "metadata": {
  "kernelspec": {
   "display_name": "LangChain",
   "language": "python",
   "name": "python3"
  },
  "language_info": {
   "codemirror_mode": {
    "name": "ipython",
    "version": 3
   },
   "file_extension": ".py",
   "mimetype": "text/x-python",
   "name": "python",
   "nbconvert_exporter": "python",
   "pygments_lexer": "ipython3",
   "version": "3.12.10"
  }
 },
 "nbformat": 4,
 "nbformat_minor": 5
}
