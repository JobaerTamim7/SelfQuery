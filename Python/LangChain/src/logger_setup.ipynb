{
 "cells": [
  {
   "cell_type": "markdown",
   "id": "2a673030",
   "metadata": {},
   "source": [
    "**Logging in File**"
   ]
  },
  {
   "cell_type": "code",
   "execution_count": null,
   "id": "cd00ec1b",
   "metadata": {},
   "outputs": [],
   "source": [
    "import logging\n",
    "from logging import Logger\n",
    "\n",
    "formatter = logging.Formatter(\n",
    "    '[%(levelname)-5s] %(asctime)s - %(name)s: %(message)s',\n",
    "    datefmt='%Y-%m-%d %H:%M:%S'\n",
    ")\n",
    "file_logger: Logger = logging.getLogger(\"file_logger\")\n",
    "file_logger.setLevel(logging.DEBUG)\n",
    "file_logger.propagate = False\n",
    "\n",
    "if not file_logger.hasHandlers():\n",
    "    file_handler = logging.FileHandler(\"app.log\")\n",
    "    file_handler.setLevel(logging.DEBUG)\n",
    "    file_handler.setFormatter(formatter)\n",
    "    file_logger.addHandler(file_handler)\n"
   ]
  },
  {
   "cell_type": "markdown",
   "id": "956bf61e",
   "metadata": {},
   "source": [
    "**Logging in Console**"
   ]
  },
  {
   "cell_type": "code",
   "execution_count": null,
   "id": "e9e0a639",
   "metadata": {},
   "outputs": [
    {
     "name": "stderr",
     "output_type": "stream",
     "text": [
      "[INFO ] 2025-09-30 15:43:48 - 245533461: Console logger initialized\n"
     ]
    }
   ],
   "source": [
    "console_logger: Logger = logging.getLogger(\"console_logger\")\n",
    "console_logger.setLevel(logging.INFO)\n",
    "console_logger.propagate = False\n",
    "console_logger.handlers.clear()\n",
    "\n",
    "if not console_logger.hasHandlers():\n",
    "    console_handler = logging.StreamHandler() # Create a handler that writes log messages to the console (standard output).\n",
    "    console_handler.setLevel(logging.INFO)\n",
    "    console_handler.setFormatter(formatter)\n",
    "    console_logger.addHandler(console_handler)\n"
   ]
  }
 ],
 "metadata": {
  "kernelspec": {
   "display_name": "chain (3.12.5)",
   "language": "python",
   "name": "python3"
  },
  "language_info": {
   "codemirror_mode": {
    "name": "ipython",
    "version": 3
   },
   "file_extension": ".py",
   "mimetype": "text/x-python",
   "name": "python",
   "nbconvert_exporter": "python",
   "pygments_lexer": "ipython3",
   "version": "3.12.5"
  }
 },
 "nbformat": 4,
 "nbformat_minor": 5
}
