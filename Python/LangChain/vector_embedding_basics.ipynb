{
 "cells": [
  {
   "cell_type": "markdown",
   "id": "1430e2ef",
   "metadata": {},
   "source": [
    "## **Setup Timer**"
   ]
  },
  {
   "cell_type": "code",
   "execution_count": 29,
   "id": "6ec56bb8",
   "metadata": {},
   "outputs": [],
   "source": [
    "import time\n",
    "\n",
    "def timer(func):\n",
    "    def wrapper(*args, **kwargs):\n",
    "        start_time = time.time()\n",
    "        result = func(*args, **kwargs)\n",
    "        end_time = time.time()\n",
    "        print(f\"Function '{func.__name__}' executed in {end_time - start_time:.10f} seconds\")\n",
    "        return result\n",
    "    return wrapper"
   ]
  },
  {
   "cell_type": "markdown",
   "id": "c36d05b2",
   "metadata": {},
   "source": [
    "## **Setup Embedding Model**"
   ]
  },
  {
   "cell_type": "code",
   "execution_count": 30,
   "id": "9babdd05",
   "metadata": {},
   "outputs": [],
   "source": [
    "from sentence_transformers import SentenceTransformer\n",
    "\n",
    "model = SentenceTransformer('all-MiniLM-L6-v2')"
   ]
  },
  {
   "cell_type": "markdown",
   "id": "ec160916",
   "metadata": {},
   "source": [
    "## **Create Embeddigns**"
   ]
  },
  {
   "cell_type": "code",
   "execution_count": 31,
   "id": "dc3f298b",
   "metadata": {},
   "outputs": [
    {
     "name": "stdout",
     "output_type": "stream",
     "text": [
      "(10, 384)\n",
      "[ 0.05315838  0.01514426 -0.01166811  0.10676312 -0.02198896]\n"
     ]
    }
   ],
   "source": [
    "documents = [\n",
    "    \"Cats are independent pets that love to nap.\",\n",
    "    \"Dogs are loyal companions who enjoy walks.\",\n",
    "    \"Birds can fly and often sing beautiful songs.\",\n",
    "    \"Fish swim in aquariums and come in many colors.\",\n",
    "    \"Elephants are the largest land animals on Earth.\",\n",
    "    \"Hamsters are small rodents often kept as pets.\",\n",
    "    \"Rabbits have long ears and love to hop.\",\n",
    "    \"Turtles have hard shells and can live both in water and on land.\",\n",
    "    \"Lizards are reptiles that can regrow their tails.\",\n",
    "    \"Frogs are amphibians known for their jumping abilities.\"\n",
    "]\n",
    "embeddings = model.encode(documents)\n",
    "print(embeddings.shape)\n",
    "print(embeddings[0][:5])  "
   ]
  },
  {
   "cell_type": "markdown",
   "id": "6f595309",
   "metadata": {},
   "source": [
    "## **Working with Vector DB (ChromaDB)**"
   ]
  },
  {
   "cell_type": "markdown",
   "id": "9beeba79",
   "metadata": {},
   "source": [
    "### **Create Client**"
   ]
  },
  {
   "cell_type": "code",
   "execution_count": 32,
   "id": "82f899de",
   "metadata": {},
   "outputs": [],
   "source": [
    "import chromadb\n",
    "\n",
    "chroma_client = chromadb.Client()\n",
    "persistent_chroma_client = chromadb.PersistentClient(path=\"./chroma_db\")"
   ]
  },
  {
   "cell_type": "markdown",
   "id": "60b974bd",
   "metadata": {},
   "source": [
    "### **Create Collections**"
   ]
  },
  {
   "cell_type": "code",
   "execution_count": 33,
   "id": "fe4670ca",
   "metadata": {},
   "outputs": [],
   "source": [
    "collection = chroma_client.create_collection(name=\"animal_collection\",get_or_create=True)\n",
    "persistent_collection = persistent_chroma_client.create_collection(name=\"persistent_animal_collection\",get_or_create=True)"
   ]
  },
  {
   "cell_type": "markdown",
   "id": "b8c48cdb",
   "metadata": {},
   "source": [
    "### **Add Embeddings to the Collection**"
   ]
  },
  {
   "cell_type": "code",
   "execution_count": 34,
   "id": "814a4d94",
   "metadata": {},
   "outputs": [],
   "source": [
    "ids = [f\"doc_{i}\" for i in range(len(documents))]\n",
    "collection.add(ids=ids, documents=documents, embeddings=embeddings.tolist())\n",
    "persistent_collection.add(ids=ids, documents=documents, embeddings=embeddings.tolist())"
   ]
  },
  {
   "cell_type": "markdown",
   "id": "5b9b0f70",
   "metadata": {},
   "source": [
    "### **Create Query and Proccess**"
   ]
  },
  {
   "cell_type": "code",
   "execution_count": 38,
   "id": "f887fd14",
   "metadata": {},
   "outputs": [],
   "source": [
    "query = \"Aquatic pets\"\n",
    "query_embedding = model.encode([query])[0]"
   ]
  },
  {
   "cell_type": "markdown",
   "id": "fe45c69c",
   "metadata": {},
   "source": [
    "### **Outputs**"
   ]
  },
  {
   "cell_type": "code",
   "execution_count": 39,
   "id": "95316358",
   "metadata": {},
   "outputs": [
    {
     "name": "stdout",
     "output_type": "stream",
     "text": [
      "Function 'perform_query' executed in 0.0015027523 seconds\n",
      "\n",
      "Results from in-memory collection:\n",
      "Document: Fish swim in aquariums and come in many colors., Score: 0.883\n",
      "Document: Turtles have hard shells and can live both in water and on land., Score: 1.117\n",
      "Document: Frogs are amphibians known for their jumping abilities., Score: 1.300\n",
      "Document: Dogs are loyal companions who enjoy walks., Score: 1.357\n",
      "Document: Hamsters are small rodents often kept as pets., Score: 1.376\n",
      "\n",
      "Results from persistent collection:\n",
      "Document: Fish swim in aquariums and come in many colors., Score: 0.883\n",
      "Document: Turtles have hard shells and can live both in water and on land., Score: 1.117\n",
      "Document: Frogs are amphibians known for their jumping abilities., Score: 1.300\n",
      "Document: Dogs are loyal companions who enjoy walks., Score: 1.357\n",
      "Document: Hamsters are small rodents often kept as pets., Score: 1.376\n"
     ]
    }
   ],
   "source": [
    "@timer\n",
    "def perform_query(collection, query_embedding):\n",
    "    return collection.query(query_embeddings=[query_embedding], n_results=5)\n",
    "\n",
    "result1 = perform_query(collection, query_embedding)\n",
    "result2 = persistent_collection.query(query_embeddings=[query_embedding], n_results=5)\n",
    "\n",
    "docs1 = result1.get('documents')\n",
    "distances1 = result1.get('distances')\n",
    "\n",
    "print(\"\\nResults from in-memory collection:\")\n",
    "if docs1 and distances1:\n",
    "    for doc, distance in zip(docs1[0], distances1[0]):\n",
    "        print(f\"Document: {doc}, Score: {distance:.3f}\")\n",
    "\n",
    "docs2 = result2.get('documents')\n",
    "distances2 = result2.get('distances')\n",
    "\n",
    "print(\"\\nResults from persistent collection:\")\n",
    "if docs2 and distances2:\n",
    "    for doc, distance in zip(docs2[0], distances2[0]):\n",
    "        print(f\"Document: {doc}, Score: {distance:.3f}\")"
   ]
  }
 ],
 "metadata": {
  "kernelspec": {
   "display_name": "chain (3.12.5)",
   "language": "python",
   "name": "python3"
  },
  "language_info": {
   "codemirror_mode": {
    "name": "ipython",
    "version": 3
   },
   "file_extension": ".py",
   "mimetype": "text/x-python",
   "name": "python",
   "nbconvert_exporter": "python",
   "pygments_lexer": "ipython3",
   "version": "3.12.5"
  }
 },
 "nbformat": 4,
 "nbformat_minor": 5
}
