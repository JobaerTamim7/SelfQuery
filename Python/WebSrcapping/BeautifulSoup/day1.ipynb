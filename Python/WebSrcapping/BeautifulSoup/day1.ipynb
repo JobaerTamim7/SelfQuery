{
 "cells": [
  {
   "cell_type": "markdown",
   "metadata": {},
   "source": [
    "**Credit : ChatGPT , StackOverflow, bs4 documentation**\n",
    "\n",
    "**How I made this?**\n",
    "\n",
    "Primarily I asked GPT for the answer. Based on that answer I googled my interests. Then again prompt GPT for better response. \n"
   ]
  },
  {
   "cell_type": "markdown",
   "metadata": {},
   "source": [
    "## Installing BeautifulSoup\n",
    "```bash\n",
    "    apt-get install python3-bs4    #for installing globally\n",
    "```\n",
    "```bash\n",
    "    poetry add bs4     # poetry installations     \n",
    "```"
   ]
  },
  {
   "cell_type": "markdown",
   "metadata": {},
   "source": [
    "## Parsers for Beautiful Soup\n",
    "\n",
    "1. **`html.parser`**:\n",
    "   - **Built-in Python parser** (no extra installation required).\n",
    "   - **Best for lightweight projects** with simple, well-structured HTML.\n",
    "   - **Pros**: Quick and easy to set up, as it comes with Python.\n",
    "   - **Cons**: Less tolerant of broken or messy HTML compared to other parsers.\n",
    "\n",
    "2. **`lxml`**:\n",
    "   - **Fastest parser** with advanced features like **XPath** and **XSLT** support.\n",
    "   - **Requires installation** of `lxml` library (may need additional dependencies on some systems).\n",
    "   - **Pros**: High speed and memory efficiency; handles large HTML documents well.\n",
    "   - **Cons**: Not as tolerant of malformed HTML as `html5lib`.\n",
    "\n",
    "3. **`html5lib`**:\n",
    "   - **HTML5-compliant parser** that strictly follows HTML5 specifications.\n",
    "   - **Best for messy or broken HTML**; it’s very lenient and similar to how browsers interpret HTML.\n",
    "   - **Pros**: Highly tolerant of errors and imperfections, ensuring well-formed output.\n",
    "   - **Cons**: Slower than `lxml` and requires additional dependencies.\n",
    "\n",
    "### Summary of Parser Choices\n",
    "\n",
    "| Parser        | Pros                                        | Cons                              | Best For                      |\n",
    "|---------------|---------------------------------------------|-----------------------------------|-------------------------------|\n",
    "| `html.parser` | No dependencies, good for simple HTML       | Less error-tolerant               | Lightweight projects          |\n",
    "| `lxml`        | Fast, advanced features (XPath, XSLT)       | Requires installation             | Large, well-formed HTML       |\n",
    "| `html5lib`    | Highly tolerant, follows HTML5 spec         | Slower, requires dependencies     | Messy or broken HTML          |\n",
    "\n",
    "\n",
    "\n",
    "    \n",
    "    "
   ]
  },
  {
   "cell_type": "code",
   "execution_count": null,
   "metadata": {},
   "outputs": [],
   "source": [
    "from bs4 import BeautifulSoup \n",
    "import requests\n",
    "\n",
    "# making the soup\n",
    "\n",
    "url : str = \"https://myanimelist.net/topanime.php\"\n",
    "response : requests.models.Response = requests.get(url)\n",
    "\n",
    "soup : BeautifulSoup = BeautifulSoup(markup=response.text, features=\"html.parser\")\n",
    "\n"
   ]
  }
 ],
 "metadata": {
  "kernelspec": {
   "display_name": "scrapper-pwK1knV8-py3.12",
   "language": "python",
   "name": "python3"
  },
  "language_info": {
   "name": "python",
   "version": "3.12.3"
  }
 },
 "nbformat": 4,
 "nbformat_minor": 2
}
